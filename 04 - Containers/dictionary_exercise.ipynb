{
 "cells": [
  {
   "cell_type": "markdown",
   "metadata": {},
   "source": [
    "Write a program that asks the user to enter a name.\n",
    "\n",
    "If the user enters a name in the list below, respond with the age of the person entered. Otherwise print \"Unknown person\".\n",
    "\n",
    "Make the program keep asking for names like this until the user enters \"quit\". Then the program exits.\n",
    "\n",
    "Start by putting names and ages into the dictionary."
   ]
  },
  {
   "cell_type": "code",
   "execution_count": 36,
   "metadata": {},
   "outputs": [],
   "source": [
    "def create_lookup(people, ages):\n",
    "    lookup = dict()\n",
    "    \n",
    "    for i in range(0, len(people)):\n",
    "        name = people[i]\n",
    "        age = ages[i]\n",
    "        lookup[name] = age\n",
    "\n",
    "    return lookup"
   ]
  },
  {
   "cell_type": "code",
   "execution_count": 37,
   "metadata": {},
   "outputs": [],
   "source": [
    "def user_loop(lookup):\n",
    "    while True:\n",
    "        user_input = input(\"Please enter a name or 'quit' > \")\n",
    "\n",
    "        if user_input == \"quit\":\n",
    "            break\n",
    "        elif not user_input in lookup:\n",
    "            print(\"Unknown person.\")\n",
    "            continue\n",
    "        \n",
    "        age = lookup[user_input]\n",
    "\n",
    "        print(user_input + \" is \" + str(age) + \" years old.\")"
   ]
  },
  {
   "cell_type": "code",
   "execution_count": 38,
   "metadata": {},
   "outputs": [
    {
     "name": "stdout",
     "output_type": "stream",
     "text": [
      "{'Amelia': 20, 'Arthur': 30, 'Isla': 25, 'Noah': 65, 'Ava': 21, 'Leo': 70, 'Mia': 32, 'Oscar': 45}\n",
      "Arthur is 30 years old.\n",
      "Unknown person.\n",
      "Isla is 25 years old.\n",
      "Noah is 65 years old.\n",
      "Ava is 21 years old.\n",
      "Ava is 21 years old.\n",
      "Mia is 32 years old.\n",
      "Unknown person.\n"
     ]
    }
   ],
   "source": [
    "#Starting Code\n",
    "\n",
    "def main():\n",
    "    people = [\"Amelia\", \"Arthur\", \"Isla\", \"Noah\", \"Ava\", \"Leo\", \"Mia\", \"Oscar\"]\n",
    "    ages = [20, 30, 25, 65, 21, 70, 32, 45]\n",
    "\n",
    "    lookup = create_lookup(people, ages)\n",
    "    print(lookup)\n",
    "    user_loop(lookup)\n",
    "\n",
    "main()"
   ]
  }
 ],
 "metadata": {
  "kernelspec": {
   "display_name": "venv",
   "language": "python",
   "name": "python3"
  },
  "language_info": {
   "codemirror_mode": {
    "name": "ipython",
    "version": 3
   },
   "file_extension": ".py",
   "mimetype": "text/x-python",
   "name": "python",
   "nbconvert_exporter": "python",
   "pygments_lexer": "ipython3",
   "version": "3.12.4"
  }
 },
 "nbformat": 4,
 "nbformat_minor": 2
}
