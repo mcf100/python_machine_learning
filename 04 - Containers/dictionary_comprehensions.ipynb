{
 "cells": [
  {
   "cell_type": "code",
   "execution_count": 1,
   "metadata": {},
   "outputs": [
    {
     "name": "stdout",
     "output_type": "stream",
     "text": [
      "{'orange': 'orange', 'banana': 'yellow'}\n",
      "{'apple': 'green', 'orange': 'orange', 'banana': 'yellow'}\n",
      "\n",
      "{'apple': 'green', 'orange': 'orange', 'banana': 'yellow'}\n"
     ]
    }
   ],
   "source": [
    "def main():\n",
    "    fruits1 = {\n",
    "        \"apple\": \"green\",\n",
    "        \"orange\": \"orange\",\n",
    "        \"banana\": \"yellow\",\n",
    "    }\n",
    "\n",
    "    fruits2 = fruits1.copy()\n",
    "    fruits1.pop(\"apple\")\n",
    "\n",
    "    print(fruits1)\n",
    "    print(fruits2)\n",
    "\n",
    "    print()\n",
    "\n",
    "    fruits3 = {key:value for (key, value) in fruits2.items()}\n",
    "    print(fruits3)\n",
    "main()"
   ]
  }
 ],
 "metadata": {
  "kernelspec": {
   "display_name": "venv",
   "language": "python",
   "name": "python3"
  },
  "language_info": {
   "codemirror_mode": {
    "name": "ipython",
    "version": 3
   },
   "file_extension": ".py",
   "mimetype": "text/x-python",
   "name": "python",
   "nbconvert_exporter": "python",
   "pygments_lexer": "ipython3",
   "version": "3.12.4"
  }
 },
 "nbformat": 4,
 "nbformat_minor": 2
}
